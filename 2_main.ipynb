{
 "cells": [
  {
   "cell_type": "code",
   "execution_count": 6,
   "metadata": {},
   "outputs": [],
   "source": [
    "import re\n",
    "import requests\n",
    "from tqdm import tqdm\n",
    "from libs.index_loader import loader\n",
    "from libs.req import req\n",
    "from libs.extract import extract\n",
    "from libs.cleaner import cleaner\n",
    "from libs.writer import Writer"
   ]
  },
  {
   "cell_type": "code",
   "execution_count": 7,
   "metadata": {},
   "outputs": [],
   "source": [
    "requester = req()\n",
    "my_loader = loader()\n",
    "my_cleaner = cleaner()\n",
    "my_writer = Writer()"
   ]
  },
  {
   "cell_type": "markdown",
   "metadata": {},
   "source": [
    "__配置文件__"
   ]
  },
  {
   "cell_type": "code",
   "execution_count": 8,
   "metadata": {},
   "outputs": [
    {
     "name": "stderr",
     "output_type": "stream",
     "text": [
      "33it [00:00, 34336.90it/s]"
     ]
    },
    {
     "name": "stdout",
     "output_type": "stream",
     "text": [
      "index_urls load complete\n"
     ]
    },
    {
     "name": "stderr",
     "output_type": "stream",
     "text": [
      "\n"
     ]
    }
   ],
   "source": [
    "level = 2 # 爬取树的层数\n",
    "clean = False # 循环处理是否清洗\n",
    "input_urls = my_loader.load_file('./urls_files/index_urls.txt')\n",
    "pattern = re.compile('<a.*?href=\"http://.*?\".*?>.*?</a>')\n",
    "raw_name = './urls_files/raw_urls.txt'\n",
    "processed_name = './urls_files/processed_urls.txt'\n"
   ]
  },
  {
   "cell_type": "markdown",
   "metadata": {},
   "source": [
    "__爬虫主程序__"
   ]
  },
  {
   "cell_type": "code",
   "execution_count": 9,
   "metadata": {},
   "outputs": [],
   "source": [
    "def crawler(input_urls, level):\n",
    "    if level == 0:\n",
    "        print('End Crawling')\n",
    "        return\n",
    "    error_urls = []\n",
    "    str_combine = ''\n",
    "    if clean:\n",
    "        input_urls = my_cleaner.clean_url(input_urls, input_urls)\n",
    "    for url in tqdm(input_urls, desc='Crawling URLs'):\n",
    "        try:\n",
    "            str_combine = str_combine + requester.req_url(url)\n",
    "        except Exception:\n",
    "            error_urls.append(url)\n",
    "            continue\n",
    "\n",
    "    items = re.findall(pattern, str_combine)\n",
    "    next_url = []\n",
    "    for item in tqdm(items, desc='Extracting URLs'):\n",
    "        extractor = extract()\n",
    "        dict_ex = extractor.url_extract_less(item)\n",
    "        for url_text in dict_ex:\n",
    "            next_url.append(url_text)\n",
    "    with open(raw_name, 'w') as file:\n",
    "        for url in next_url:\n",
    "            file.write(url + '\\n')\n",
    "    print(f'{len(error_urls)} URL went wrong:{error_urls}',)\n",
    "    print(f'Complete')\n",
    "    crawler(next_url, level - 1)"
   ]
  },
  {
   "cell_type": "markdown",
   "metadata": {},
   "source": [
    "__开始爬取__"
   ]
  },
  {
   "cell_type": "code",
   "execution_count": 10,
   "metadata": {},
   "outputs": [
    {
     "name": "stderr",
     "output_type": "stream",
     "text": [
      "Crawling URLs: 100%|██████████| 33/33 [03:07<00:00,  5.68s/it]\n"
     ]
    },
    {
     "name": "stdout",
     "output_type": "stream",
     "text": [
      "Request timed out\n"
     ]
    },
    {
     "name": "stderr",
     "output_type": "stream",
     "text": [
      "Extracting URLs: 100%|██████████| 361/361 [00:00<00:00, 812.48it/s] \n"
     ]
    },
    {
     "name": "stdout",
     "output_type": "stream",
     "text": [
      "11 URL went wrong:['http://magnet.chongbuluo.com', 'https://www.9178.work', 'https://oo1.win', 'https://web.geekji.cn', 'https://anyi.life', 'http://daohangwan.com', 'http://lxqnsys.com', 'https://www.24kdh.com', 'http://qiachu.com', 'http://321ku.com', 'http://byr.wiki']\n",
      "Complete\n"
     ]
    },
    {
     "name": "stderr",
     "output_type": "stream",
     "text": [
      "Crawling URLs: 100%|█████████▉| 1878/1883 [1:01:36<01:41, 20.28s/it]"
     ]
    },
    {
     "name": "stdout",
     "output_type": "stream",
     "text": [
      "Request timed out\n"
     ]
    },
    {
     "name": "stderr",
     "output_type": "stream",
     "text": [
      "Crawling URLs: 100%|██████████| 1883/1883 [1:01:47<00:00,  1.97s/it]\n",
      "Extracting URLs: 100%|██████████| 32981/32981 [00:29<00:00, 1115.19it/s]\n"
     ]
    },
    {
     "name": "stdout",
     "output_type": "stream",
     "text": [
      "147 URL went wrong:['https://www.zhihu.com/', 'http://www.cpta.com.cn/', 'https://ipcrs.pbccrc.org.cn/', 'https://www.qimao.com/', 'http://www.mafengwo.cn/', 'http://www.lianjia.com/', 'http://www.baixing.com/', 'http://www.cwl.gov.cn/fcpz/yxjs/fc3d/', 'http://www.pbc.gov.cn/', 'https://outlook.live.com/', 'https://beian.miit.gov.cn/', 'https://www.mafengwo.cn/', 'https://outlook.live.com/', 'https://www.lanzou.com/', 'https://bing.ioliu.cn/', 'https://jnav.com/xuexi', 'https://www.vmovier.com/channel', 'https://www.hdhhh.com/', 'https://yigekuang.cn/', 'https://beian.miit.gov.cn/', 'http://www.qcenglish.com/', 'http://www.wordlm.com/', 'https://icoalert.com/', 'https://www.zuankuo.com', 'http://www.rigengjihua.cn/', 'https://lingkou.com', 'https://tsgvpn.hynu.edu.cn:8888/', 'https://magi.com/', 'https://www.xiaoduyu.com', 'https://www.52pojie.cn/misc.php?mod=ranklist&type=thread&view=replies&orderby=thisweek', 'https://weekly.75.team/', 'https://dribbble.com/', 'https://www.5118.com/', 'https://mo.fish/', 'https://www.douban.com/group/topic/307556528/', 'https://www.douyin.com/search/%E9%AB%98%E8%80%83%E6%9F%A5%E5%88%86', 'https://www.douyin.com/search/%E8%B5%B0%E5%A4%A7%E8%BF%90%E8%A1%8C%E5%A5%BD%E8%BF%90', 'https://www.douyin.com/search/%E5%B9%BF%E4%B8%9C%E9%AB%98%E8%80%83%E6%88%90%E7%BB%A925%E6%97%A5%E5%8F%91%E5%B8%83', 'https://www.douyin.com/search/%E5%8C%97%E4%BA%AC%E4%B8%AD%E8%80%83%E5%BC%80%E8%80%83', 'https://www.douyin.com/search/%E5%9B%9B%E5%B7%9D%E4%B8%80%E6%96%87%E7%A7%91%E7%94%B7%E7%94%9F%E9%AB%98%E8%80%83654%E5%88%86', 'https://www.v2ex.com/t/1050466', 'https://www.v2ex.com/t/1050419', 'https://www.v2ex.com/t/1050853', 'https://www.v2ex.com/t/1050716', 'https://www.v2ex.com/t/1051049', 'https://www.v2ex.com/t/1050484', 'https://www.v2ex.com/t/1051359', 'https://www.v2ex.com/t/1050745', 'https://www.v2ex.com/t/1051036', 'https://www.v2ex.com/t/1051034', 'https://www.v2ex.com/t/1051054', 'https://www.v2ex.com/t/1050404', 'https://www.v2ex.com/t/1050767', 'https://www.v2ex.com/t/1051075', 'https://www.v2ex.com/t/1051212', 'https://www.v2ex.com/t/1051421', 'https://www.v2ex.com/t/1051681', 'https://www.v2ex.com/t/1051409', 'https://www.v2ex.com/t/1051399', 'https://www.v2ex.com/t/1051084', 'https://www.v2ex.com/t/1051839', 'https://www.v2ex.com/t/1050796', 'https://www.v2ex.com/t/1051351', 'https://www.v2ex.com/t/1050422', 'https://www.v2ex.com/t/1051968', 'https://www.v2ex.com/t/1050438', 'https://www.v2ex.com/t/1050791', 'https://www.v2ex.com/t/1051989', 'https://www.v2ex.com/t/1052022', 'https://www.v2ex.com/t/1051057', 'https://www.v2ex.com/t/1050411', 'https://www.v2ex.com/t/1051891', 'https://www.v2ex.com/t/1051459', 'https://www.v2ex.com/t/1051357', 'https://www.v2ex.com/t/1050516', 'https://www.v2ex.com/t/1051542', 'https://www.v2ex.com/t/1050728', 'https://www.v2ex.com/t/1050876', 'https://www.v2ex.com/t/1051653', 'https://www.v2ex.com/t/1051450', 'https://www.v2ex.com/t/1051464', 'https://www.v2ex.com/t/1051194', 'https://www.v2ex.com/t/1051677', 'https://www.v2ex.com/t/1050496', 'https://www.v2ex.com/t/1051792', 'https://www.v2ex.com/t/1051069', 'https://www.v2ex.com/t/1051851', 'https://www.v2ex.com/t/1051467', 'https://www.v2ex.com/t/1051643', 'https://www.v2ex.com/t/1050584', 'https://www.v2ex.com/t/1050452', 'https://www.v2ex.com/t/1050824', 'https://www.v2ex.com/t/1050624', 'https://www.v2ex.com/t/1050522', 'https://www.v2ex.com/t/1050529', 'https://www.v2ex.com/t/1050719', 'https://www.v2ex.com/t/1050487', 'https://www.v2ex.com/t/1051995', 'https://www.v2ex.com/t/1051349', 'https://www.v2ex.com/t/1051388', 'https://www.v2ex.com/t/1051527', 'https://www.v2ex.com/t/1050467', 'https://www.v2ex.com/t/1050451', 'https://www.v2ex.com/t/1051679', 'https://www.v2ex.com/t/1051025', 'https://www.v2ex.com/t/1051102', 'https://www.v2ex.com/t/1050737', 'https://www.v2ex.com/t/1051456', 'https://www.v2ex.com/t/1051058', 'https://www.v2ex.com/t/1051973', 'https://www.v2ex.com/t/1051163', 'https://www.v2ex.com/t/1050616', 'https://www.v2ex.com/t/1051370', 'https://www.v2ex.com/t/1051604', 'https://www.v2ex.com/t/1051990', 'https://www.v2ex.com/t/1051423', 'https://www.v2ex.com/t/1051182', 'https://www.v2ex.com/t/1050989', 'https://www.v2ex.com/t/1051796', 'https://www.v2ex.com/t/1051795', 'https://www.v2ex.com/t/1051641', 'https://www.v2ex.com/t/1051086', 'https://www.v2ex.com/t/1051070', 'https://www.v2ex.com/t/1050730', 'https://www.v2ex.com/t/1051598', 'https://www.v2ex.com/t/1051562', 'https://www.v2ex.com/t/1051184', 'https://www.v2ex.com/t/1051030', 'https://www.v2ex.com/t/1050430', 'https://www.v2ex.com/t/1051471', 'https://www.v2ex.com/t/1050486', 'https://www.v2ex.com/t/1051377', 'https://www.v2ex.com/t/1051228', 'https://www.v2ex.com/t/1050756', 'https://www.v2ex.com/t/1051375', 'https://www.v2ex.com/t/1051384', 'https://www.v2ex.com/t/1051038', 'https://www.v2ex.com/t/1051095', 'https://www.v2ex.com/t/1050403', 'https://www.v2ex.com/t/1051820', 'https://www.52pojie.cn/thread-1937536-1-1.html', 'http://beian.miit.gov.cn', 'http://browsehappy.com/', 'https://www.benbenla.cn', 'http://www.sohu.com/', 'http://www.ziyuangou.com/xiazai/', 'http://beian.miit.gov.cn/']\n",
      "Complete\n",
      "End Crawling\n"
     ]
    }
   ],
   "source": [
    "crawler(input_urls, level)"
   ]
  },
  {
   "cell_type": "markdown",
   "metadata": {},
   "source": [
    "__清洗__"
   ]
  },
  {
   "cell_type": "code",
   "execution_count": 11,
   "metadata": {},
   "outputs": [],
   "source": [
    "my_cleaner.clean_url(raw_name, processed_name)"
   ]
  },
  {
   "cell_type": "markdown",
   "metadata": {},
   "source": [
    "__处理__"
   ]
  },
  {
   "cell_type": "code",
   "execution_count": 12,
   "metadata": {},
   "outputs": [],
   "source": [
    "new_lines = []\n",
    "\n",
    "with open(processed_name, 'r') as file:\n",
    "    lines = file.readlines()\n",
    "    for line in lines:\n",
    "        new_line = line.strip() + '/robots.txt\\n'\n",
    "        new_lines.append(new_line)\n",
    "\n",
    "with open(processed_name, 'w') as file:\n",
    "    file.writelines(new_lines)"
   ]
  },
  {
   "cell_type": "markdown",
   "metadata": {},
   "source": [
    "__写入__"
   ]
  },
  {
   "cell_type": "code",
   "execution_count": 14,
   "metadata": {},
   "outputs": [
    {
     "name": "stderr",
     "output_type": "stream",
     "text": [
      "Crawling URLs: 100%|██████████| 6541/6541 [1:32:36<00:00,  1.18it/s]  "
     ]
    },
    {
     "name": "stdout",
     "output_type": "stream",
     "text": [
      "compl\n"
     ]
    },
    {
     "name": "stderr",
     "output_type": "stream",
     "text": [
      "\n"
     ]
    }
   ],
   "source": [
    "timeout_list = []\n",
    "no_response_list = []\n",
    "\n",
    "with open(processed_name, 'r') as file:\n",
    "    lines = file.readlines()\n",
    "    for line in tqdm(lines,desc='Crawling URLs'):\n",
    "        try:\n",
    "            response = requests.get(line, timeout=10)\n",
    "            if response.status_code == 200:\n",
    "                if response.text.startswith('User-agent:'):\n",
    "                    my_writer.parse_robots_to_csv(website_url=line, robots_text=response.text)\n",
    "            else:\n",
    "                no_response_list.append(line)\n",
    "        except requests.exceptions.Timeout:\n",
    "            timeout_list.append(line)\n",
    "        except Exception as e:\n",
    "            continue\n",
    "    file.close()\n",
    "print('complete')"
   ]
  }
 ],
 "metadata": {
  "kernelspec": {
   "display_name": "Python 3",
   "language": "python",
   "name": "python3"
  },
  "language_info": {
   "codemirror_mode": {
    "name": "ipython",
    "version": 3
   },
   "file_extension": ".py",
   "mimetype": "text/x-python",
   "name": "python",
   "nbconvert_exporter": "python",
   "pygments_lexer": "ipython3",
   "version": "3.10.8"
  }
 },
 "nbformat": 4,
 "nbformat_minor": 2
}
